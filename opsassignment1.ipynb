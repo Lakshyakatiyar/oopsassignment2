{
 "cells": [
  {
   "cell_type": "code",
   "execution_count": 4,
   "id": "8962bc27-e3b0-41c7-b5cc-fb4645b7b1da",
   "metadata": {},
   "outputs": [
    {
     "name": "stdout",
     "output_type": "stream",
     "text": [
      "Hello my name is John and I work in GeeksForGeeks.\n"
     ]
    }
   ],
   "source": [
    "#Class is a detailed description, the definition, and the template of what an object will be.\n",
    "#But it is not the object itself. Also, what we call, a class is the building block that leads to Object-Oriented Programming. \n",
    "#It is a user-defined data type, that holds its own data members and member functions, which can be accessed and used by creating an instance of that class.\n",
    "#It is the blueprint of any object. Once we have written a class and defined it, we can use it to create as many objects based on that class as we want\n",
    "#Object is an instance of a class. All data members and member functions of the class can be accessed with the help of objects. \n",
    "#When a class is defined, no memory is allocated, but memory is allocated when it is instantiated (i.e. an object is created)\n",
    "class GFG:\n",
    "\tdef __init__(self, name, company):\n",
    "\t\tself.name = name\n",
    "\t\tself.company = company\n",
    "\n",
    "\tdef show(self):\n",
    "\t\tprint(\"Hello my name is \" + self.name+\" and I\" +\n",
    "\t\t\t\" work in \"+self.company+\".\")\n",
    "\n",
    "\n",
    "obj = GFG(\"John\", \"GeeksForGeeks\")\n",
    "obj.show()\n"
   ]
  },
  {
   "cell_type": "code",
   "execution_count": 1,
   "id": "800ad624-3285-448d-86c5-017e9dbca862",
   "metadata": {},
   "outputs": [],
   "source": [
    "#four pillars of oops are -:\n",
    "   # 1. polymorphism\n",
    "   #  2. inheritance\n",
    "   # 3. abstraction\n",
    "   # 4. encapsulation"
   ]
  },
  {
   "cell_type": "code",
   "execution_count": 2,
   "id": "072e6f87-cd0d-42bd-ae40-00bd70722d3c",
   "metadata": {},
   "outputs": [
    {
     "name": "stdout",
     "output_type": "stream",
     "text": [
      "Hello, my name is Nikhil\n"
     ]
    }
   ],
   "source": [
    "#__init__ is a special python method that runs whenever a new object is created.\n",
    "#These types of functions are used to initialize the attributes of that class.\n",
    "#eg-:\n",
    "  # A Sample class with init method\n",
    "class Person:\n",
    "\tdef __init__(self, name):\n",
    "\t\tself.name = name\n",
    "        \n",
    "\tdef say_hi(self):\n",
    "\t\tprint('Hello, my name is', self.name)\n",
    "\n",
    "\n",
    "p = Person('Nikhil')\n",
    "p.say_hi()\n",
    "  "
   ]
  },
  {
   "cell_type": "code",
   "execution_count": 3,
   "id": "3126ce7a-3de1-4041-b758-2fd0920c4a30",
   "metadata": {},
   "outputs": [],
   "source": [
    "#The self variable is used to represent the instance of the class which is often used in object-oriented programming.\n",
    "#It works as a reference to the object.\n",
    "#Python uses the self parameter to refer to instance attributes and methods of the class."
   ]
  },
  {
   "cell_type": "code",
   "execution_count": 5,
   "id": "86377a2f-d45a-4b98-99e5-c3f3022039df",
   "metadata": {},
   "outputs": [
    {
     "name": "stdout",
     "output_type": "stream",
     "text": [
      "This function is in parent class.\n",
      "This function is in child class.\n"
     ]
    }
   ],
   "source": [
    "#Inheritance is a mechanism in which one class acquires the property of another class.\n",
    "#For example, a child inherits the traits of his/her parents. \n",
    "#With inheritance, we can reuse the fields and methods of the existing class.\n",
    "\n",
    "# single inheritance\n",
    "class Parent:\n",
    "\tdef func1(self):\n",
    "\t\tprint(\"This function is in parent class.\")\n",
    "\n",
    "class Child(Parent):\n",
    "\tdef func2(self):\n",
    "\t\tprint(\"This function is in child class.\")\n",
    "        \n",
    "object = Child()\n",
    "object.func1()\n",
    "object.func2()\n",
    "\n"
   ]
  },
  {
   "cell_type": "code",
   "execution_count": 7,
   "id": "823f968b-eb6b-4a07-8878-fe7170d76700",
   "metadata": {},
   "outputs": [
    {
     "name": "stdout",
     "output_type": "stream",
     "text": [
      "Father : RAM\n",
      "Mother : SITA\n"
     ]
    }
   ],
   "source": [
    "#multiple inheritance\n",
    "class Mother:\n",
    "\tmothername = \"\"\n",
    "\n",
    "\tdef mother(self):\n",
    "\t\tprint(self.mothername)\n",
    "\n",
    "\n",
    "class Father:\n",
    "\tfathername = \"\"\n",
    "\n",
    "\tdef father(self):\n",
    "\t\tprint(self.fathername)\n",
    "\n",
    "\n",
    "class Son(Mother, Father):\n",
    "\tdef parents(self):\n",
    "\t\tprint(\"Father :\", self.fathername)\n",
    "\t\tprint(\"Mother :\", self.mothername)\n",
    "        \n",
    "s1 = Son()\n",
    "s1.fathername = \"RAM\"\n",
    "s1.mothername = \"SITA\"\n",
    "s1.parents()\n"
   ]
  },
  {
   "cell_type": "code",
   "execution_count": 8,
   "id": "c2eb46fe-3d82-4c59-ac62-e4fc85a47486",
   "metadata": {},
   "outputs": [
    {
     "name": "stdout",
     "output_type": "stream",
     "text": [
      "Lal mani\n",
      "Grandfather name : Lal mani\n",
      "Father name : Rampal\n",
      "Son name : Prince\n"
     ]
    }
   ],
   "source": [
    "# Python program to demonstrate\n",
    "# multilevel inheritance\n",
    "\n",
    "# Base class\n",
    "\n",
    "\n",
    "class Grandfather:\n",
    "\n",
    "\tdef __init__(self, grandfathername):\n",
    "\t\tself.grandfathername =\n",
    "\n",
    "\n",
    "class Father(Grandfather):\n",
    "\tdef __init__(self, fathername, grandfathername):\n",
    "\t\tself.fathername = fathername\n",
    "\n",
    "\t\tGrandfather.__init__(self, grandfathername)\n",
    "\n",
    "\n",
    "class Son(Father):\n",
    "\tdef __init__(self, sonname, fathername, grandfathername):\n",
    "\t\tself.sonname = sonname\n",
    "        \n",
    "\t\tFather.__init__(self, fathername, grandfathername)\n",
    "\n",
    "\tdef print_name(self):\n",
    "\t\tprint('Grandfather name :', self.grandfathername)\n",
    "\t\tprint(\"Father name :\", self.fathername)\n",
    "\t\tprint(\"Son name :\", self.sonname)\n",
    "        \n",
    "        \n",
    "s1 = Son('Prince', 'Rampal', 'Lal mani')\n",
    "print(s1.grandfathername)\n",
    "s1.print_name()\n"
   ]
  },
  {
   "cell_type": "code",
   "execution_count": 9,
   "id": "0d9ce885-6288-49c5-8b91-f7012cdfda5e",
   "metadata": {},
   "outputs": [
    {
     "name": "stdout",
     "output_type": "stream",
     "text": [
      "This function is in parent class.\n",
      "This function is in child 1.\n",
      "This function is in parent class.\n",
      "This function is in child 2.\n"
     ]
    }
   ],
   "source": [
    "# Hierarchical inheritance\n",
    "\n",
    "class Parent:\n",
    "\tdef func1(self):\n",
    "\t\tprint(\"This function is in parent class.\")\n",
    "\n",
    "\n",
    "class Child1(Parent):\n",
    "\tdef func2(self):\n",
    "\t\tprint(\"This function is in child 1.\")\n",
    "\n",
    "\n",
    "class Child2(Parent):\n",
    "\tdef func3(self):\n",
    "\t\tprint(\"This function is in child 2.\")\n",
    "\n",
    "object1 = Child1()\n",
    "object2 = Child2()\n",
    "object1.func1()\n",
    "object1.func2()\n",
    "object2.func1()\n",
    "object2.func3()\n"
   ]
  },
  {
   "cell_type": "code",
   "execution_count": 10,
   "id": "8f726009-6ab4-41a5-8ae9-a89f8fa177de",
   "metadata": {},
   "outputs": [
    {
     "name": "stdout",
     "output_type": "stream",
     "text": [
      "This function is in school.\n",
      "This function is in student 1. \n"
     ]
    }
   ],
   "source": [
    "# hybrid inheritance\n",
    "\n",
    "\n",
    "class School:\n",
    "\tdef func1(self):\n",
    "\t\tprint(\"This function is in school.\")\n",
    "\n",
    "\n",
    "class Student1(School):\n",
    "\tdef func2(self):\n",
    "\t\tprint(\"This function is in student 1. \")\n",
    "\n",
    "\n",
    "class Student2(School):\n",
    "\tdef func3(self):\n",
    "\t\tprint(\"This function is in student 2.\")\n",
    "\n",
    "\n",
    "class Student3(Student1, School):\n",
    "\tdef func4(self):\n",
    "\t\tprint(\"This function is in student 3.\")\n",
    "\n",
    "object = Student3()\n",
    "object.func1()\n",
    "object.func2()\n"
   ]
  },
  {
   "cell_type": "code",
   "execution_count": null,
   "id": "eb4e1346-9560-470e-9be5-3bace55449c0",
   "metadata": {},
   "outputs": [],
   "source": []
  }
 ],
 "metadata": {
  "kernelspec": {
   "display_name": "Python 3 (ipykernel)",
   "language": "python",
   "name": "python3"
  },
  "language_info": {
   "codemirror_mode": {
    "name": "ipython",
    "version": 3
   },
   "file_extension": ".py",
   "mimetype": "text/x-python",
   "name": "python",
   "nbconvert_exporter": "python",
   "pygments_lexer": "ipython3",
   "version": "3.10.8"
  }
 },
 "nbformat": 4,
 "nbformat_minor": 5
}
